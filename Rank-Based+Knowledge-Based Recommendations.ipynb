{
 "cells": [
  {
   "cell_type": "markdown",
   "metadata": {},
   "source": [
    "### Recommendations Rank & Knowledge Based: \n"
   ]
  },
  {
   "cell_type": "code",
   "execution_count": 191,
   "metadata": {},
   "outputs": [],
   "source": [
    "import numpy as np\n",
    "import pandas as pd\n",
    "import matplotlib.pyplot as plt\n",
    "\n",
    "%matplotlib inline\n",
    "\n",
    "# Read in the datasets\n",
    "movies = pd.read_csv('movies_clean.csv')\n",
    "reviews = pd.read_csv('reviews_clean.csv')\n",
    "del movies['Unnamed: 0']\n",
    "del reviews['Unnamed: 0']"
   ]
  },
  {
   "cell_type": "code",
   "execution_count": 192,
   "metadata": {},
   "outputs": [
    {
     "data": {
      "text/html": [
       "<div>\n",
       "<style scoped>\n",
       "    .dataframe tbody tr th:only-of-type {\n",
       "        vertical-align: middle;\n",
       "    }\n",
       "\n",
       "    .dataframe tbody tr th {\n",
       "        vertical-align: top;\n",
       "    }\n",
       "\n",
       "    .dataframe thead th {\n",
       "        text-align: right;\n",
       "    }\n",
       "</style>\n",
       "<table border=\"1\" class=\"dataframe\">\n",
       "  <thead>\n",
       "    <tr style=\"text-align: right;\">\n",
       "      <th></th>\n",
       "      <th>user_id</th>\n",
       "      <th>movie_id</th>\n",
       "      <th>rating</th>\n",
       "      <th>timestamp</th>\n",
       "      <th>date</th>\n",
       "      <th>month_1</th>\n",
       "      <th>month_2</th>\n",
       "      <th>month_3</th>\n",
       "      <th>month_4</th>\n",
       "      <th>month_5</th>\n",
       "      <th>...</th>\n",
       "      <th>month_9</th>\n",
       "      <th>month_10</th>\n",
       "      <th>month_11</th>\n",
       "      <th>month_12</th>\n",
       "      <th>year_2013</th>\n",
       "      <th>year_2014</th>\n",
       "      <th>year_2015</th>\n",
       "      <th>year_2016</th>\n",
       "      <th>year_2017</th>\n",
       "      <th>year_2018</th>\n",
       "    </tr>\n",
       "  </thead>\n",
       "  <tbody>\n",
       "    <tr>\n",
       "      <th>0</th>\n",
       "      <td>1</td>\n",
       "      <td>68646</td>\n",
       "      <td>10</td>\n",
       "      <td>1381620027</td>\n",
       "      <td>2013-10-12 23:20:27</td>\n",
       "      <td>0</td>\n",
       "      <td>0</td>\n",
       "      <td>0</td>\n",
       "      <td>0</td>\n",
       "      <td>0</td>\n",
       "      <td>...</td>\n",
       "      <td>0</td>\n",
       "      <td>1</td>\n",
       "      <td>0</td>\n",
       "      <td>0</td>\n",
       "      <td>1</td>\n",
       "      <td>0</td>\n",
       "      <td>0</td>\n",
       "      <td>0</td>\n",
       "      <td>0</td>\n",
       "      <td>0</td>\n",
       "    </tr>\n",
       "    <tr>\n",
       "      <th>1</th>\n",
       "      <td>1</td>\n",
       "      <td>113277</td>\n",
       "      <td>10</td>\n",
       "      <td>1379466669</td>\n",
       "      <td>2013-09-18 01:11:09</td>\n",
       "      <td>0</td>\n",
       "      <td>0</td>\n",
       "      <td>0</td>\n",
       "      <td>0</td>\n",
       "      <td>0</td>\n",
       "      <td>...</td>\n",
       "      <td>0</td>\n",
       "      <td>0</td>\n",
       "      <td>0</td>\n",
       "      <td>0</td>\n",
       "      <td>1</td>\n",
       "      <td>0</td>\n",
       "      <td>0</td>\n",
       "      <td>0</td>\n",
       "      <td>0</td>\n",
       "      <td>0</td>\n",
       "    </tr>\n",
       "  </tbody>\n",
       "</table>\n",
       "<p>2 rows × 23 columns</p>\n",
       "</div>"
      ],
      "text/plain": [
       "   user_id  movie_id  rating   timestamp                 date  month_1  \\\n",
       "0        1     68646      10  1381620027  2013-10-12 23:20:27        0   \n",
       "1        1    113277      10  1379466669  2013-09-18 01:11:09        0   \n",
       "\n",
       "   month_2  month_3  month_4  month_5  ...  month_9  month_10  month_11  \\\n",
       "0        0        0        0        0  ...        0         1         0   \n",
       "1        0        0        0        0  ...        0         0         0   \n",
       "\n",
       "   month_12  year_2013  year_2014  year_2015  year_2016  year_2017  year_2018  \n",
       "0         0          1          0          0          0          0          0  \n",
       "1         0          1          0          0          0          0          0  \n",
       "\n",
       "[2 rows x 23 columns]"
      ]
     },
     "execution_count": 192,
     "metadata": {},
     "output_type": "execute_result"
    }
   ],
   "source": [
    "reviews.head(2)"
   ]
  },
  {
   "cell_type": "code",
   "execution_count": 193,
   "metadata": {},
   "outputs": [
    {
     "data": {
      "text/html": [
       "<div>\n",
       "<style scoped>\n",
       "    .dataframe tbody tr th:only-of-type {\n",
       "        vertical-align: middle;\n",
       "    }\n",
       "\n",
       "    .dataframe tbody tr th {\n",
       "        vertical-align: top;\n",
       "    }\n",
       "\n",
       "    .dataframe thead th {\n",
       "        text-align: right;\n",
       "    }\n",
       "</style>\n",
       "<table border=\"1\" class=\"dataframe\">\n",
       "  <thead>\n",
       "    <tr style=\"text-align: right;\">\n",
       "      <th></th>\n",
       "      <th>movie_id</th>\n",
       "      <th>movie</th>\n",
       "      <th>genre</th>\n",
       "      <th>date</th>\n",
       "      <th>1800's</th>\n",
       "      <th>1900's</th>\n",
       "      <th>2000's</th>\n",
       "      <th>History</th>\n",
       "      <th>News</th>\n",
       "      <th>Horror</th>\n",
       "      <th>...</th>\n",
       "      <th>Fantasy</th>\n",
       "      <th>Romance</th>\n",
       "      <th>Game-Show</th>\n",
       "      <th>Action</th>\n",
       "      <th>Documentary</th>\n",
       "      <th>Animation</th>\n",
       "      <th>Comedy</th>\n",
       "      <th>Short</th>\n",
       "      <th>Western</th>\n",
       "      <th>Thriller</th>\n",
       "    </tr>\n",
       "  </thead>\n",
       "  <tbody>\n",
       "    <tr>\n",
       "      <th>0</th>\n",
       "      <td>8</td>\n",
       "      <td>Edison Kinetoscopic Record of a Sneeze (1894)</td>\n",
       "      <td>Documentary|Short</td>\n",
       "      <td>1894</td>\n",
       "      <td>1</td>\n",
       "      <td>0</td>\n",
       "      <td>0</td>\n",
       "      <td>0</td>\n",
       "      <td>0</td>\n",
       "      <td>0</td>\n",
       "      <td>...</td>\n",
       "      <td>0</td>\n",
       "      <td>0</td>\n",
       "      <td>0</td>\n",
       "      <td>0</td>\n",
       "      <td>1</td>\n",
       "      <td>0</td>\n",
       "      <td>0</td>\n",
       "      <td>1</td>\n",
       "      <td>0</td>\n",
       "      <td>0</td>\n",
       "    </tr>\n",
       "    <tr>\n",
       "      <th>1</th>\n",
       "      <td>10</td>\n",
       "      <td>La sortie des usines Lumière (1895)</td>\n",
       "      <td>Documentary|Short</td>\n",
       "      <td>1895</td>\n",
       "      <td>1</td>\n",
       "      <td>0</td>\n",
       "      <td>0</td>\n",
       "      <td>0</td>\n",
       "      <td>0</td>\n",
       "      <td>0</td>\n",
       "      <td>...</td>\n",
       "      <td>0</td>\n",
       "      <td>0</td>\n",
       "      <td>0</td>\n",
       "      <td>0</td>\n",
       "      <td>1</td>\n",
       "      <td>0</td>\n",
       "      <td>0</td>\n",
       "      <td>1</td>\n",
       "      <td>0</td>\n",
       "      <td>0</td>\n",
       "    </tr>\n",
       "  </tbody>\n",
       "</table>\n",
       "<p>2 rows × 35 columns</p>\n",
       "</div>"
      ],
      "text/plain": [
       "   movie_id                                          movie              genre  \\\n",
       "0         8  Edison Kinetoscopic Record of a Sneeze (1894)  Documentary|Short   \n",
       "1        10            La sortie des usines Lumière (1895)  Documentary|Short   \n",
       "\n",
       "   date  1800's  1900's  2000's  History  News  Horror  ...  Fantasy  Romance  \\\n",
       "0  1894       1       0       0        0     0       0  ...        0        0   \n",
       "1  1895       1       0       0        0     0       0  ...        0        0   \n",
       "\n",
       "   Game-Show  Action  Documentary  Animation  Comedy  Short  Western  Thriller  \n",
       "0          0       0            1          0       0      1        0         0  \n",
       "1          0       0            1          0       0      1        0         0  \n",
       "\n",
       "[2 rows x 35 columns]"
      ]
     },
     "execution_count": 193,
     "metadata": {},
     "output_type": "execute_result"
    }
   ],
   "source": [
    "movies.head(2)"
   ]
  },
  {
   "cell_type": "code",
   "execution_count": 194,
   "metadata": {},
   "outputs": [
    {
     "name": "stdout",
     "output_type": "stream",
     "text": [
      "<class 'pandas.core.frame.DataFrame'>\n",
      "RangeIndex: 712337 entries, 0 to 712336\n",
      "Data columns (total 5 columns):\n",
      " #   Column     Non-Null Count   Dtype \n",
      "---  ------     --------------   ----- \n",
      " 0   user_id    712337 non-null  int64 \n",
      " 1   movie_id   712337 non-null  int64 \n",
      " 2   rating     712337 non-null  int64 \n",
      " 3   timestamp  712337 non-null  int64 \n",
      " 4   date       712337 non-null  object\n",
      "dtypes: int64(4), object(1)\n",
      "memory usage: 27.2+ MB\n"
     ]
    }
   ],
   "source": [
    "reviewsModified = reviews[['user_id', 'movie_id', 'rating', 'timestamp', 'date']]\n",
    "moviesModified = movies[['movie_id', 'movie', 'genre', 'date']]\n",
    "\n",
    "reviewsModified.info()"
   ]
  },
  {
   "cell_type": "code",
   "execution_count": 195,
   "metadata": {},
   "outputs": [],
   "source": [
    "values = (reviewsModified.movie_id.value_counts() >= 5)\n",
    "values = values[values].index.values\n",
    "values = values.tolist()"
   ]
  },
  {
   "cell_type": "code",
   "execution_count": 196,
   "metadata": {},
   "outputs": [
    {
     "data": {
      "text/plain": [
       "(677742, 5)"
      ]
     },
     "execution_count": 196,
     "metadata": {},
     "output_type": "execute_result"
    }
   ],
   "source": [
    "reviewsModified = reviewsModified[reviewsModified['movie_id'].isin(values)]\n",
    "reviewsModified.shape"
   ]
  },
  {
   "cell_type": "code",
   "execution_count": 197,
   "metadata": {},
   "outputs": [
    {
     "data": {
      "text/plain": [
       "(9974, 3)"
      ]
     },
     "execution_count": 197,
     "metadata": {},
     "output_type": "execute_result"
    }
   ],
   "source": [
    "moviesModified = moviesModified[moviesModified['movie_id'].isin(values)].set_index('movie_id')\n",
    "moviesModified.shape"
   ]
  },
  {
   "cell_type": "code",
   "execution_count": 198,
   "metadata": {
    "scrolled": true
   },
   "outputs": [
    {
     "data": {
      "text/html": [
       "<div>\n",
       "<style scoped>\n",
       "    .dataframe tbody tr th:only-of-type {\n",
       "        vertical-align: middle;\n",
       "    }\n",
       "\n",
       "    .dataframe tbody tr th {\n",
       "        vertical-align: top;\n",
       "    }\n",
       "\n",
       "    .dataframe thead th {\n",
       "        text-align: right;\n",
       "    }\n",
       "</style>\n",
       "<table border=\"1\" class=\"dataframe\">\n",
       "  <thead>\n",
       "    <tr style=\"text-align: right;\">\n",
       "      <th></th>\n",
       "      <th>user_id</th>\n",
       "      <th>timestamp</th>\n",
       "      <th>date</th>\n",
       "    </tr>\n",
       "    <tr>\n",
       "      <th>movie_id</th>\n",
       "      <th></th>\n",
       "      <th></th>\n",
       "      <th></th>\n",
       "    </tr>\n",
       "  </thead>\n",
       "  <tbody>\n",
       "    <tr>\n",
       "      <th>68646</th>\n",
       "      <td>1</td>\n",
       "      <td>1381620027</td>\n",
       "      <td>2013-10-12 23:20:27</td>\n",
       "    </tr>\n",
       "    <tr>\n",
       "      <th>113277</th>\n",
       "      <td>1</td>\n",
       "      <td>1379466669</td>\n",
       "      <td>2013-09-18 01:11:09</td>\n",
       "    </tr>\n",
       "    <tr>\n",
       "      <th>422720</th>\n",
       "      <td>2</td>\n",
       "      <td>1412178746</td>\n",
       "      <td>2014-10-01 15:52:26</td>\n",
       "    </tr>\n",
       "    <tr>\n",
       "      <th>454876</th>\n",
       "      <td>2</td>\n",
       "      <td>1394818630</td>\n",
       "      <td>2014-03-14 17:37:10</td>\n",
       "    </tr>\n",
       "    <tr>\n",
       "      <th>790636</th>\n",
       "      <td>2</td>\n",
       "      <td>1389963947</td>\n",
       "      <td>2014-01-17 13:05:47</td>\n",
       "    </tr>\n",
       "  </tbody>\n",
       "</table>\n",
       "</div>"
      ],
      "text/plain": [
       "          user_id   timestamp                date\n",
       "movie_id                                         \n",
       "68646           1  1381620027 2013-10-12 23:20:27\n",
       "113277          1  1379466669 2013-09-18 01:11:09\n",
       "422720          2  1412178746 2014-10-01 15:52:26\n",
       "454876          2  1394818630 2014-03-14 17:37:10\n",
       "790636          2  1389963947 2014-01-17 13:05:47"
      ]
     },
     "execution_count": 198,
     "metadata": {},
     "output_type": "execute_result"
    }
   ],
   "source": [
    "dateDf = reviewsModified.drop_duplicates(subset='movie_id').set_index('movie_id').drop('rating', axis=1)\n",
    "\n",
    "dateDf[\"date\"] = pd.to_datetime(dateDf[\"date\"])\n",
    "dateDf.head()"
   ]
  },
  {
   "cell_type": "code",
   "execution_count": 199,
   "metadata": {},
   "outputs": [
    {
     "data": {
      "text/html": [
       "<div>\n",
       "<style scoped>\n",
       "    .dataframe tbody tr th:only-of-type {\n",
       "        vertical-align: middle;\n",
       "    }\n",
       "\n",
       "    .dataframe tbody tr th {\n",
       "        vertical-align: top;\n",
       "    }\n",
       "\n",
       "    .dataframe thead th {\n",
       "        text-align: right;\n",
       "    }\n",
       "</style>\n",
       "<table border=\"1\" class=\"dataframe\">\n",
       "  <thead>\n",
       "    <tr style=\"text-align: right;\">\n",
       "      <th></th>\n",
       "      <th>user_id</th>\n",
       "      <th>movie_id</th>\n",
       "      <th>rating</th>\n",
       "      <th>timestamp</th>\n",
       "      <th>date</th>\n",
       "    </tr>\n",
       "  </thead>\n",
       "  <tbody>\n",
       "    <tr>\n",
       "      <th>0</th>\n",
       "      <td>1</td>\n",
       "      <td>68646</td>\n",
       "      <td>10</td>\n",
       "      <td>1381620027</td>\n",
       "      <td>2013-10-12 23:20:27</td>\n",
       "    </tr>\n",
       "    <tr>\n",
       "      <th>1</th>\n",
       "      <td>1</td>\n",
       "      <td>113277</td>\n",
       "      <td>10</td>\n",
       "      <td>1379466669</td>\n",
       "      <td>2013-09-18 01:11:09</td>\n",
       "    </tr>\n",
       "    <tr>\n",
       "      <th>2</th>\n",
       "      <td>2</td>\n",
       "      <td>422720</td>\n",
       "      <td>8</td>\n",
       "      <td>1412178746</td>\n",
       "      <td>2014-10-01 15:52:26</td>\n",
       "    </tr>\n",
       "    <tr>\n",
       "      <th>3</th>\n",
       "      <td>2</td>\n",
       "      <td>454876</td>\n",
       "      <td>8</td>\n",
       "      <td>1394818630</td>\n",
       "      <td>2014-03-14 17:37:10</td>\n",
       "    </tr>\n",
       "    <tr>\n",
       "      <th>4</th>\n",
       "      <td>2</td>\n",
       "      <td>790636</td>\n",
       "      <td>7</td>\n",
       "      <td>1389963947</td>\n",
       "      <td>2014-01-17 13:05:47</td>\n",
       "    </tr>\n",
       "  </tbody>\n",
       "</table>\n",
       "</div>"
      ],
      "text/plain": [
       "   user_id  movie_id  rating   timestamp                 date\n",
       "0        1     68646      10  1381620027  2013-10-12 23:20:27\n",
       "1        1    113277      10  1379466669  2013-09-18 01:11:09\n",
       "2        2    422720       8  1412178746  2014-10-01 15:52:26\n",
       "3        2    454876       8  1394818630  2014-03-14 17:37:10\n",
       "4        2    790636       7  1389963947  2014-01-17 13:05:47"
      ]
     },
     "execution_count": 199,
     "metadata": {},
     "output_type": "execute_result"
    }
   ],
   "source": [
    "reviewsModified.head()"
   ]
  },
  {
   "cell_type": "code",
   "execution_count": 200,
   "metadata": {},
   "outputs": [
    {
     "data": {
      "text/html": [
       "<div>\n",
       "<style scoped>\n",
       "    .dataframe tbody tr th:only-of-type {\n",
       "        vertical-align: middle;\n",
       "    }\n",
       "\n",
       "    .dataframe tbody tr th {\n",
       "        vertical-align: top;\n",
       "    }\n",
       "\n",
       "    .dataframe thead th {\n",
       "        text-align: right;\n",
       "    }\n",
       "</style>\n",
       "<table border=\"1\" class=\"dataframe\">\n",
       "  <thead>\n",
       "    <tr style=\"text-align: right;\">\n",
       "      <th></th>\n",
       "      <th>rating</th>\n",
       "    </tr>\n",
       "    <tr>\n",
       "      <th>movie_id</th>\n",
       "      <th></th>\n",
       "    </tr>\n",
       "  </thead>\n",
       "  <tbody>\n",
       "    <tr>\n",
       "      <th>417</th>\n",
       "      <td>8.368421</td>\n",
       "    </tr>\n",
       "    <tr>\n",
       "      <th>6864</th>\n",
       "      <td>8.800000</td>\n",
       "    </tr>\n",
       "    <tr>\n",
       "      <th>10323</th>\n",
       "      <td>8.210526</td>\n",
       "    </tr>\n",
       "    <tr>\n",
       "      <th>12349</th>\n",
       "      <td>8.500000</td>\n",
       "    </tr>\n",
       "    <tr>\n",
       "      <th>12364</th>\n",
       "      <td>9.625000</td>\n",
       "    </tr>\n",
       "  </tbody>\n",
       "</table>\n",
       "</div>"
      ],
      "text/plain": [
       "            rating\n",
       "movie_id          \n",
       "417       8.368421\n",
       "6864      8.800000\n",
       "10323     8.210526\n",
       "12349     8.500000\n",
       "12364     9.625000"
      ]
     },
     "execution_count": 200,
     "metadata": {},
     "output_type": "execute_result"
    }
   ],
   "source": [
    "highestRatingsDf = reviewsModified.groupby('movie_id').mean('rating')\\\n",
    "                                                        .drop(['user_id', 'timestamp'], axis=1)\n",
    "highestRatingsDf.head()"
   ]
  },
  {
   "cell_type": "code",
   "execution_count": 201,
   "metadata": {},
   "outputs": [
    {
     "data": {
      "text/html": [
       "<div>\n",
       "<style scoped>\n",
       "    .dataframe tbody tr th:only-of-type {\n",
       "        vertical-align: middle;\n",
       "    }\n",
       "\n",
       "    .dataframe tbody tr th {\n",
       "        vertical-align: top;\n",
       "    }\n",
       "\n",
       "    .dataframe thead th {\n",
       "        text-align: right;\n",
       "    }\n",
       "</style>\n",
       "<table border=\"1\" class=\"dataframe\">\n",
       "  <thead>\n",
       "    <tr style=\"text-align: right;\">\n",
       "      <th></th>\n",
       "      <th>numberOfViews</th>\n",
       "    </tr>\n",
       "    <tr>\n",
       "      <th>movie_id</th>\n",
       "      <th></th>\n",
       "    </tr>\n",
       "  </thead>\n",
       "  <tbody>\n",
       "    <tr>\n",
       "      <th>417</th>\n",
       "      <td>19</td>\n",
       "    </tr>\n",
       "    <tr>\n",
       "      <th>6864</th>\n",
       "      <td>5</td>\n",
       "    </tr>\n",
       "    <tr>\n",
       "      <th>10323</th>\n",
       "      <td>19</td>\n",
       "    </tr>\n",
       "    <tr>\n",
       "      <th>12349</th>\n",
       "      <td>60</td>\n",
       "    </tr>\n",
       "    <tr>\n",
       "      <th>12364</th>\n",
       "      <td>8</td>\n",
       "    </tr>\n",
       "  </tbody>\n",
       "</table>\n",
       "</div>"
      ],
      "text/plain": [
       "          numberOfViews\n",
       "movie_id               \n",
       "417                  19\n",
       "6864                  5\n",
       "10323                19\n",
       "12349                60\n",
       "12364                 8"
      ]
     },
     "execution_count": 201,
     "metadata": {},
     "output_type": "execute_result"
    }
   ],
   "source": [
    "tempDf = reviewsModified.groupby('movie_id').count()[['rating']]\n",
    "tempDf.rename(columns = {'rating':'numberOfViews'}, inplace = True)\n",
    "tempDf.head()"
   ]
  },
  {
   "cell_type": "code",
   "execution_count": 202,
   "metadata": {},
   "outputs": [
    {
     "data": {
      "text/html": [
       "<div>\n",
       "<style scoped>\n",
       "    .dataframe tbody tr th:only-of-type {\n",
       "        vertical-align: middle;\n",
       "    }\n",
       "\n",
       "    .dataframe tbody tr th {\n",
       "        vertical-align: top;\n",
       "    }\n",
       "\n",
       "    .dataframe thead th {\n",
       "        text-align: right;\n",
       "    }\n",
       "</style>\n",
       "<table border=\"1\" class=\"dataframe\">\n",
       "  <thead>\n",
       "    <tr style=\"text-align: right;\">\n",
       "      <th></th>\n",
       "      <th>user_id</th>\n",
       "      <th>timestamp</th>\n",
       "      <th>date</th>\n",
       "      <th>rating</th>\n",
       "      <th>numberOfViews</th>\n",
       "    </tr>\n",
       "    <tr>\n",
       "      <th>movie_id</th>\n",
       "      <th></th>\n",
       "      <th></th>\n",
       "      <th></th>\n",
       "      <th></th>\n",
       "      <th></th>\n",
       "    </tr>\n",
       "  </thead>\n",
       "  <tbody>\n",
       "    <tr>\n",
       "      <th>4921860</th>\n",
       "      <td>1824</td>\n",
       "      <td>1470036059</td>\n",
       "      <td>2016-08-01 07:20:59</td>\n",
       "      <td>10.0</td>\n",
       "      <td>48</td>\n",
       "    </tr>\n",
       "    <tr>\n",
       "      <th>5262972</th>\n",
       "      <td>4177</td>\n",
       "      <td>1452210578</td>\n",
       "      <td>2016-01-07 23:49:38</td>\n",
       "      <td>10.0</td>\n",
       "      <td>28</td>\n",
       "    </tr>\n",
       "    <tr>\n",
       "      <th>5688932</th>\n",
       "      <td>7585</td>\n",
       "      <td>1529045193</td>\n",
       "      <td>2018-06-15 06:46:33</td>\n",
       "      <td>10.0</td>\n",
       "      <td>14</td>\n",
       "    </tr>\n",
       "    <tr>\n",
       "      <th>2737018</th>\n",
       "      <td>7397</td>\n",
       "      <td>1365265613</td>\n",
       "      <td>2013-04-06 16:26:53</td>\n",
       "      <td>10.0</td>\n",
       "      <td>10</td>\n",
       "    </tr>\n",
       "    <tr>\n",
       "      <th>2560840</th>\n",
       "      <td>30109</td>\n",
       "      <td>1453509044</td>\n",
       "      <td>2016-01-23 00:30:44</td>\n",
       "      <td>10.0</td>\n",
       "      <td>6</td>\n",
       "    </tr>\n",
       "  </tbody>\n",
       "</table>\n",
       "</div>"
      ],
      "text/plain": [
       "          user_id   timestamp                date  rating  numberOfViews\n",
       "movie_id                                                                \n",
       "4921860      1824  1470036059 2016-08-01 07:20:59    10.0             48\n",
       "5262972      4177  1452210578 2016-01-07 23:49:38    10.0             28\n",
       "5688932      7585  1529045193 2018-06-15 06:46:33    10.0             14\n",
       "2737018      7397  1365265613 2013-04-06 16:26:53    10.0             10\n",
       "2560840     30109  1453509044 2016-01-23 00:30:44    10.0              6"
      ]
     },
     "execution_count": 202,
     "metadata": {},
     "output_type": "execute_result"
    }
   ],
   "source": [
    "FinalDf = pd.merge(highestRatingsDf, tempDf, left_index=True, right_index=True)\n",
    "FinalDf = pd.merge(dateDf, FinalDf, left_index=True, right_index=True)\n",
    "FinalDf.sort_values(by = ['rating', 'numberOfViews', 'date'], ascending=(False, False, False), inplace=True)\n",
    "\n",
    "FinalDf.head()"
   ]
  },
  {
   "cell_type": "markdown",
   "metadata": {},
   "source": [
    "#### 1. How To Find The Most Popular Movies\n",
    "\n",
    "For this notebook, we have a single task.  The task is that no matter the user, we need to provide a list of the recommendations based on simply the most popular items.\n",
    "\n",
    "For this task, we will consider what is \"most popular\" based on the following criteria:\n",
    "\n",
    "* A movie with the highest average rating is considered best\n",
    "* With ties, movies that have more ratings are better\n",
    "* A movie must have a minimum of 5 ratings to be considered among the best movies\n",
    "* If movies are tied in their average rating and number of ratings, the ranking is determined by the movie that is the most recent rating\n",
    "\n",
    "With these criteria, the goal for this notebook is to take a **user_id** and provide back the **n_top** recommendations.  Use the function below as the scaffolding that will be used for all the future recommendations as well."
   ]
  },
  {
   "cell_type": "code",
   "execution_count": 203,
   "metadata": {},
   "outputs": [],
   "source": [
    "def popular_recommendations(user_id, n_top):\n",
    "    '''\n",
    "    INPUT:\n",
    "    user_id - the user_id of the individual you are making recommendations for\n",
    "    n_top - an integer of the number recommendations you want back\n",
    "    OUTPUT:\n",
    "    top_movies - a list of the n_top recommended movies by movie title in order best to worst\n",
    "    '''\n",
    "    movieIndex = FinalDf.head(n_top).index\n",
    "    \n",
    "    top_movies = list(moviesModified.loc[FinalDf.head(n_top).index].movie.values)\n",
    "\n",
    "    # Do stuff\n",
    "    \n",
    "    return top_movies # a list of the n_top movies as recommended"
   ]
  },
  {
   "cell_type": "code",
   "execution_count": 204,
   "metadata": {},
   "outputs": [
    {
     "data": {
      "text/plain": [
       "['MSG 2 the Messenger (2015)',\n",
       " 'Avengers: Age of Ultron Parody (2015)',\n",
       " 'Sorry to Bother You (2018)',\n",
       " 'Selam (2013)',\n",
       " \"Quiet Riot: Well Now You're Here, There's No Way Back (2014)\",\n",
       " 'Crawl Bitch Crawl (2012)',\n",
       " 'Make Like a Dog (2015)',\n",
       " 'Pandorica (2016)',\n",
       " 'Third Contact (2011)',\n",
       " 'Romeo Juliet (2009)']"
      ]
     },
     "execution_count": 204,
     "metadata": {},
     "output_type": "execute_result"
    }
   ],
   "source": [
    "popular_recommendations(4, 10)"
   ]
  },
  {
   "cell_type": "markdown",
   "metadata": {},
   "source": [
    "After Implementing the above function go to the practical quiz in maharatech link and solve the MCQ there. "
   ]
  },
  {
   "cell_type": "code",
   "execution_count": 205,
   "metadata": {},
   "outputs": [],
   "source": [
    "# Put your solutions for MCQ here"
   ]
  },
  {
   "cell_type": "markdown",
   "metadata": {},
   "source": [
    "**Notice:** This wasn't the only way we could have determined the \"top rated\" movies.  You can imagine that in keeping track of trending news or trending social events, you would likely want to create a time window from the current time, and then pull the articles in the most recent time frame.  There are always going to be some subjective decisions to be made.  \n",
    "\n",
    "If you find that no one is paying any attention to your most popular recommendations, then it might be time to find a new way to recommend, which is what the next parts of the lesson should prepare us to do!\n"
   ]
  },
  {
   "cell_type": "markdown",
   "metadata": {},
   "source": [
    "### Part II: Adding Filters\n",
    "\n",
    "Now that you have created a function to give back the **n_top** movies, let's make it a bit more robust.  Add arguments that will act as filters for the movie **year** and **genre**.  \n",
    "\n",
    "Use the cells below to adjust your existing function to allow for **year** and **genre** arguments as **lists** of **strings**.  Then your ending results are filtered to only movies within the lists of provided years and genres (as `or` conditions).  If no list is provided, there should be no filter applied.\n",
    "\n",
    "You can adjust other necessary inputs as necessary to retrieve the final results you are looking for!\n",
    "\n",
    "The shape of the function should be as below:\n",
    "```\n",
    "popular_recs_filtered('1', 20, ranked_movies, years=['2015', '2016', '2017', '2018'], genres=['History', 'Comedy'])\n",
    "```"
   ]
  },
  {
   "cell_type": "code",
   "execution_count": 206,
   "metadata": {},
   "outputs": [],
   "source": [
    "from sklearn.impute import SimpleImputer\n",
    "imp = SimpleImputer(strategy='constant', fill_value = 'noGenre')\n",
    "moviesModified[['genre']] = imp.fit_transform(moviesModified[['genre']])"
   ]
  },
  {
   "cell_type": "code",
   "execution_count": 207,
   "metadata": {},
   "outputs": [
    {
     "data": {
      "text/html": [
       "<div>\n",
       "<style scoped>\n",
       "    .dataframe tbody tr th:only-of-type {\n",
       "        vertical-align: middle;\n",
       "    }\n",
       "\n",
       "    .dataframe tbody tr th {\n",
       "        vertical-align: top;\n",
       "    }\n",
       "\n",
       "    .dataframe thead th {\n",
       "        text-align: right;\n",
       "    }\n",
       "</style>\n",
       "<table border=\"1\" class=\"dataframe\">\n",
       "  <thead>\n",
       "    <tr style=\"text-align: right;\">\n",
       "      <th></th>\n",
       "      <th>movie</th>\n",
       "      <th>genre</th>\n",
       "      <th>date</th>\n",
       "    </tr>\n",
       "    <tr>\n",
       "      <th>movie_id</th>\n",
       "      <th></th>\n",
       "      <th></th>\n",
       "      <th></th>\n",
       "    </tr>\n",
       "  </thead>\n",
       "  <tbody>\n",
       "    <tr>\n",
       "      <th>417</th>\n",
       "      <td>Le voyage dans la lune (1902)</td>\n",
       "      <td>Short|Adventure|Fantasy</td>\n",
       "      <td>1902</td>\n",
       "    </tr>\n",
       "    <tr>\n",
       "      <th>6864</th>\n",
       "      <td>Intolerance: Love's Struggle Throughout the Ag...</td>\n",
       "      <td>Drama</td>\n",
       "      <td>1916</td>\n",
       "    </tr>\n",
       "    <tr>\n",
       "      <th>10323</th>\n",
       "      <td>Das Cabinet des Dr. Caligari (1920)</td>\n",
       "      <td>Horror|Mystery</td>\n",
       "      <td>1920</td>\n",
       "    </tr>\n",
       "    <tr>\n",
       "      <th>12349</th>\n",
       "      <td>The Kid (1921)</td>\n",
       "      <td>Comedy|Drama|Family</td>\n",
       "      <td>1921</td>\n",
       "    </tr>\n",
       "    <tr>\n",
       "      <th>12364</th>\n",
       "      <td>Körkarlen (1921)</td>\n",
       "      <td>Drama|Fantasy|Horror</td>\n",
       "      <td>1921</td>\n",
       "    </tr>\n",
       "  </tbody>\n",
       "</table>\n",
       "</div>"
      ],
      "text/plain": [
       "                                                      movie  \\\n",
       "movie_id                                                      \n",
       "417                           Le voyage dans la lune (1902)   \n",
       "6864      Intolerance: Love's Struggle Throughout the Ag...   \n",
       "10323                   Das Cabinet des Dr. Caligari (1920)   \n",
       "12349                                        The Kid (1921)   \n",
       "12364                                      Körkarlen (1921)   \n",
       "\n",
       "                            genre  date  \n",
       "movie_id                                 \n",
       "417       Short|Adventure|Fantasy  1902  \n",
       "6864                        Drama  1916  \n",
       "10323              Horror|Mystery  1920  \n",
       "12349         Comedy|Drama|Family  1921  \n",
       "12364        Drama|Fantasy|Horror  1921  "
      ]
     },
     "execution_count": 207,
     "metadata": {},
     "output_type": "execute_result"
    }
   ],
   "source": [
    "moviesModified.head()"
   ]
  },
  {
   "cell_type": "code",
   "execution_count": 208,
   "metadata": {},
   "outputs": [
    {
     "data": {
      "text/html": [
       "<div>\n",
       "<style scoped>\n",
       "    .dataframe tbody tr th:only-of-type {\n",
       "        vertical-align: middle;\n",
       "    }\n",
       "\n",
       "    .dataframe tbody tr th {\n",
       "        vertical-align: top;\n",
       "    }\n",
       "\n",
       "    .dataframe thead th {\n",
       "        text-align: right;\n",
       "    }\n",
       "</style>\n",
       "<table border=\"1\" class=\"dataframe\">\n",
       "  <thead>\n",
       "    <tr style=\"text-align: right;\">\n",
       "      <th></th>\n",
       "      <th>movie</th>\n",
       "      <th>genre</th>\n",
       "      <th>date</th>\n",
       "    </tr>\n",
       "    <tr>\n",
       "      <th>movie_id</th>\n",
       "      <th></th>\n",
       "      <th></th>\n",
       "      <th></th>\n",
       "    </tr>\n",
       "  </thead>\n",
       "  <tbody>\n",
       "    <tr>\n",
       "      <th>417</th>\n",
       "      <td>Le voyage dans la lune (1902)</td>\n",
       "      <td>[Short, Adventure, Fantasy]</td>\n",
       "      <td>1902</td>\n",
       "    </tr>\n",
       "    <tr>\n",
       "      <th>6864</th>\n",
       "      <td>Intolerance: Love's Struggle Throughout the Ag...</td>\n",
       "      <td>[Drama]</td>\n",
       "      <td>1916</td>\n",
       "    </tr>\n",
       "    <tr>\n",
       "      <th>10323</th>\n",
       "      <td>Das Cabinet des Dr. Caligari (1920)</td>\n",
       "      <td>[Horror, Mystery]</td>\n",
       "      <td>1920</td>\n",
       "    </tr>\n",
       "    <tr>\n",
       "      <th>12349</th>\n",
       "      <td>The Kid (1921)</td>\n",
       "      <td>[Comedy, Drama, Family]</td>\n",
       "      <td>1921</td>\n",
       "    </tr>\n",
       "    <tr>\n",
       "      <th>12364</th>\n",
       "      <td>Körkarlen (1921)</td>\n",
       "      <td>[Drama, Fantasy, Horror]</td>\n",
       "      <td>1921</td>\n",
       "    </tr>\n",
       "  </tbody>\n",
       "</table>\n",
       "</div>"
      ],
      "text/plain": [
       "                                                      movie  \\\n",
       "movie_id                                                      \n",
       "417                           Le voyage dans la lune (1902)   \n",
       "6864      Intolerance: Love's Struggle Throughout the Ag...   \n",
       "10323                   Das Cabinet des Dr. Caligari (1920)   \n",
       "12349                                        The Kid (1921)   \n",
       "12364                                      Körkarlen (1921)   \n",
       "\n",
       "                                genre  date  \n",
       "movie_id                                     \n",
       "417       [Short, Adventure, Fantasy]  1902  \n",
       "6864                          [Drama]  1916  \n",
       "10323               [Horror, Mystery]  1920  \n",
       "12349         [Comedy, Drama, Family]  1921  \n",
       "12364        [Drama, Fantasy, Horror]  1921  "
      ]
     },
     "execution_count": 208,
     "metadata": {},
     "output_type": "execute_result"
    }
   ],
   "source": [
    "moviesModified['genre'] = moviesModified['genre'].str.split('|')\n",
    "\n",
    "moviesModified.head()"
   ]
  },
  {
   "cell_type": "code",
   "execution_count": 209,
   "metadata": {},
   "outputs": [
    {
     "data": {
      "text/html": [
       "<div>\n",
       "<style scoped>\n",
       "    .dataframe tbody tr th:only-of-type {\n",
       "        vertical-align: middle;\n",
       "    }\n",
       "\n",
       "    .dataframe tbody tr th {\n",
       "        vertical-align: top;\n",
       "    }\n",
       "\n",
       "    .dataframe thead th {\n",
       "        text-align: right;\n",
       "    }\n",
       "</style>\n",
       "<table border=\"1\" class=\"dataframe\">\n",
       "  <thead>\n",
       "    <tr style=\"text-align: right;\">\n",
       "      <th></th>\n",
       "      <th>movie</th>\n",
       "      <th>genre</th>\n",
       "      <th>date</th>\n",
       "    </tr>\n",
       "    <tr>\n",
       "      <th>movie_id</th>\n",
       "      <th></th>\n",
       "      <th></th>\n",
       "      <th></th>\n",
       "    </tr>\n",
       "  </thead>\n",
       "  <tbody>\n",
       "  </tbody>\n",
       "</table>\n",
       "</div>"
      ],
      "text/plain": [
       "Empty DataFrame\n",
       "Columns: [movie, genre, date]\n",
       "Index: []"
      ]
     },
     "execution_count": 209,
     "metadata": {},
     "output_type": "execute_result"
    }
   ],
   "source": [
    "moviesModified[moviesModified['genre'] == 'new']"
   ]
  },
  {
   "cell_type": "code",
   "execution_count": 210,
   "metadata": {},
   "outputs": [
    {
     "name": "stdout",
     "output_type": "stream",
     "text": [
      "<class 'pandas.core.frame.DataFrame'>\n",
      "Int64Index: 9974 entries, 417 to 8075496\n",
      "Data columns (total 3 columns):\n",
      " #   Column  Non-Null Count  Dtype \n",
      "---  ------  --------------  ----- \n",
      " 0   movie   9974 non-null   object\n",
      " 1   genre   9974 non-null   object\n",
      " 2   date    9974 non-null   int64 \n",
      "dtypes: int64(1), object(2)\n",
      "memory usage: 569.7+ KB\n"
     ]
    }
   ],
   "source": [
    "moviesModified.info()"
   ]
  },
  {
   "cell_type": "code",
   "execution_count": 211,
   "metadata": {},
   "outputs": [],
   "source": [
    "def popular_recommendationsKnow(user_id, n_top, years=None, genres=None):\n",
    "    '''\n",
    "    INPUT:\n",
    "    user_id - the user_id of the individual you are making recommendations for\n",
    "    n_top - an integer of the number recommendations you want back\n",
    "    years - a list of int with years of movies\n",
    "    genres - a list of strings with genres of movies\n",
    "    OUTPUT:\n",
    "    top_movies - a list of the n_top recommended movies by movie title in order best to worst\n",
    "    '''\n",
    "    # Do stuff\n",
    "    dateDf =  moviesModified[moviesModified.date.isin(years)]\n",
    "    movieIndex = [i for i in dateDf.index if bool(set(dateDf.loc[i].genre) & set(genres))]\n",
    "    \n",
    "    FinalDf2 = FinalDf.loc[movieIndex]\n",
    "    FinalDf2.sort_values(by = ['rating', 'numberOfViews', 'date'], ascending=(False, False, False), inplace=True)\n",
    "    \n",
    "    top_movies = list(moviesModified.loc[FinalDf2.head(n_top).index].movie.values)\n",
    "\n",
    "\n",
    "    return top_movies # a list of the n_top movies as recommended"
   ]
  },
  {
   "cell_type": "code",
   "execution_count": 218,
   "metadata": {
    "scrolled": true
   },
   "outputs": [
    {
     "data": {
      "text/plain": [
       "['Birlesen Gonuller (2014)', 'Night Will Fall (2014)', 'Red Army (2014)']"
      ]
     },
     "execution_count": 218,
     "metadata": {},
     "output_type": "execute_result"
    }
   ],
   "source": [
    "popular_recommendationsKnow(user_id='1', n_top=3, years=[2014], genres=['History'])"
   ]
  },
  {
   "cell_type": "code",
   "execution_count": 213,
   "metadata": {},
   "outputs": [],
   "source": [
    "# Put your solutions for MCQ here"
   ]
  },
  {
   "cell_type": "markdown",
   "metadata": {},
   "source": [
    "After Implementing the above function go to the practical quiz in maharatech link and solve the MCQ there. "
   ]
  },
  {
   "cell_type": "code",
   "execution_count": 221,
   "metadata": {},
   "outputs": [
    {
     "data": {
      "text/plain": [
       "['MSG 2 the Messenger (2015)',\n",
       " 'Avengers: Age of Ultron Parody (2015)',\n",
       " 'Sorry to Bother You (2018)',\n",
       " 'Selam (2013)',\n",
       " \"Quiet Riot: Well Now You're Here, There's No Way Back (2014)\",\n",
       " 'Crawl Bitch Crawl (2012)',\n",
       " 'Make Like a Dog (2015)',\n",
       " 'Pandorica (2016)',\n",
       " 'Third Contact (2011)',\n",
       " 'Romeo Juliet (2009)',\n",
       " 'Be Somebody (2016)',\n",
       " 'Birlesen Gonuller (2014)',\n",
       " 'Agnelli (2017)',\n",
       " 'Sátántangó (1994)',\n",
       " 'Shijie (2004)',\n",
       " 'Foster (2011)',\n",
       " 'CM101MMXI Fundamentals (2013)',\n",
       " 'Crystal Lake Memories: The Complete History of Friday the 13th (2013)',\n",
       " 'Akahige (1965)',\n",
       " 'Körkarlen (1921)',\n",
       " 'Tengoku to jigoku (1963)',\n",
       " 'Kirik Party (2016)',\n",
       " 'Chasing Asylum (2016)',\n",
       " 'Beyond the Sea (2004)',\n",
       " 'Blood Brother (2013)',\n",
       " 'Poshter Girl (2016)',\n",
       " 'The Adventures of Robin Hood (1938)',\n",
       " 'Umberto D. (1952)',\n",
       " 'Bridegroom (2013)',\n",
       " 'No Stone Unturned (2017)',\n",
       " 'Mad As Hell (2014)',\n",
       " 'Nashville (1975)',\n",
       " 'The Shawshank Redemption (1994)',\n",
       " 'A Matter of Life and Death (1946)',\n",
       " 'Cyborgs: Heroes Never Die (2017)',\n",
       " 'Everything or Nothing: The Untold Story of 007 (2012)',\n",
       " 'Presto (2008)',\n",
       " 'Dag II (2016)',\n",
       " 'The Lord of the Rings: The Return of the King (2003)',\n",
       " 'Sanshô dayû (1954)',\n",
       " \"Hillary's America: The Secret History of the Democratic Party (2016)\",\n",
       " 'Seppuku (1962)',\n",
       " 'Chasing Coral (2017)',\n",
       " 'The Phantom of the Opera at the Royal Albert Hall (2011)',\n",
       " 'Terra (2015)',\n",
       " 'Hidden Colors (2011)',\n",
       " 'Berserk: Ohgon jidai hen 3 - Kôrin (2013)',\n",
       " 'Men at Lunch (2012)',\n",
       " 'The Dark Knight (2008)',\n",
       " 'Andaz Apna Apna (1994)',\n",
       " 'Przypadek (1987)',\n",
       " \"La passion de Jeanne d'Arc (1928)\",\n",
       " 'Jalsaghar (1958)',\n",
       " 'Ayla: The Daughter of War (2017)',\n",
       " 'Lakshya (2004)',\n",
       " 'Southern Comfort (1981)',\n",
       " 'The Decline of Western Civilization (1981)',\n",
       " \"Bab'Aziz (2005)\",\n",
       " 'Notre musique (2004)',\n",
       " 'A Face in the Crowd (1957)',\n",
       " 'Kites (2010)',\n",
       " 'Who is Dayani Cristal? (2013)',\n",
       " 'Zinda Bhaag (2013)',\n",
       " '12 Angry Men (1957)',\n",
       " 'Taare Zameen Par (2007)',\n",
       " 'Night Will Fall (2014)',\n",
       " 'Nema-ye Nazdik (1990)',\n",
       " 'Hitting the Apex (2015)',\n",
       " 'Advise & Consent (1962)',\n",
       " 'To Be or Not to Be (1942)',\n",
       " 'Le notti di Cabiria (1957)',\n",
       " 'Colombia magia salvaje (2015)',\n",
       " 'Ma nuit chez Maud (1969)',\n",
       " 'The Message (1977)',\n",
       " 'Apur Sansar (1959)',\n",
       " 'Aparajito (1956)',\n",
       " 'Moskva slezam ne verit (1979)',\n",
       " 'Shelter (2007)',\n",
       " 'The Godfather: Part II (1974)',\n",
       " 'Amadeus (1984)',\n",
       " 'Terminator 2: Judgment Day (1991)',\n",
       " 'Letyat zhuravli (1957)',\n",
       " 'Messi (2014)',\n",
       " \"It's a Wonderful Life (1946)\",\n",
       " 'Dai-bosatsu tôge (1966)',\n",
       " 'I Believe in Miracles (2015)',\n",
       " 'Umut (1970)',\n",
       " 'Le trou (1960)',\n",
       " 'Roger Waters the Wall (2014)',\n",
       " 'Cowboy Bebop: Tengoku no tobira (2001)',\n",
       " 'Ordet (1955)',\n",
       " 'Wild Wild Country (2018)',\n",
       " 'Il buono, il brutto, il cattivo. (1966)',\n",
       " 'Forrest Gump (1994)',\n",
       " 'The Green Mile (1999)',\n",
       " \"Schindler's List (1993)\",\n",
       " 'The Godfather (1972)',\n",
       " 'Bajrangi Bhaijaan (2015)',\n",
       " 'Ikiru (1952)',\n",
       " \"One Flew Over the Cuckoo's Nest (1975)\",\n",
       " 'Cinema Paradiso (1988)']"
      ]
     },
     "execution_count": 221,
     "metadata": {},
     "output_type": "execute_result"
    }
   ],
   "source": [
    "popular_recommendations(4, 101)"
   ]
  },
  {
   "cell_type": "code",
   "execution_count": null,
   "metadata": {},
   "outputs": [],
   "source": []
  },
  {
   "cell_type": "code",
   "execution_count": null,
   "metadata": {},
   "outputs": [],
   "source": []
  },
  {
   "cell_type": "code",
   "execution_count": null,
   "metadata": {},
   "outputs": [],
   "source": []
  },
  {
   "cell_type": "code",
   "execution_count": null,
   "metadata": {},
   "outputs": [],
   "source": []
  },
  {
   "cell_type": "code",
   "execution_count": null,
   "metadata": {},
   "outputs": [],
   "source": []
  },
  {
   "cell_type": "code",
   "execution_count": null,
   "metadata": {},
   "outputs": [],
   "source": []
  },
  {
   "cell_type": "code",
   "execution_count": null,
   "metadata": {},
   "outputs": [],
   "source": []
  },
  {
   "cell_type": "code",
   "execution_count": null,
   "metadata": {},
   "outputs": [],
   "source": []
  },
  {
   "cell_type": "code",
   "execution_count": null,
   "metadata": {},
   "outputs": [],
   "source": []
  },
  {
   "cell_type": "code",
   "execution_count": null,
   "metadata": {},
   "outputs": [],
   "source": []
  },
  {
   "cell_type": "code",
   "execution_count": null,
   "metadata": {},
   "outputs": [],
   "source": []
  }
 ],
 "metadata": {
  "kernelspec": {
   "display_name": "Python 3 (ipykernel)",
   "language": "python",
   "name": "python3"
  },
  "language_info": {
   "codemirror_mode": {
    "name": "ipython",
    "version": 3
   },
   "file_extension": ".py",
   "mimetype": "text/x-python",
   "name": "python",
   "nbconvert_exporter": "python",
   "pygments_lexer": "ipython3",
   "version": "3.10.1"
  }
 },
 "nbformat": 4,
 "nbformat_minor": 2
}
